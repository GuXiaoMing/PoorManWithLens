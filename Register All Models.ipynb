{
 "cells": [
  {
   "cell_type": "markdown",
   "metadata": {},
   "source": [
    "# Register all models in Experiments of certain name pattern"
   ]
  },
  {
   "cell_type": "markdown",
   "metadata": {},
   "source": [
    "## Initialize Workspace"
   ]
  },
  {
   "cell_type": "code",
   "execution_count": null,
   "metadata": {},
   "outputs": [],
   "source": [
    "from azureml.core import Workspace\n",
    "ws = Workspace.from_config(\"./config.json\")\n",
    "# Or of course from parameters\n",
    "'''\n",
    "ws = Workspace(\n",
    "    subscription_id=\"74eccef0-4b8d-4f83-b5f9-fa100d155b22\",\n",
    "    resource_group=\"AmlStudioV2DRI\",\n",
    "    workspace_name=\"StudioV2DRI_WCUS\"\n",
    ")\n",
    "'''"
   ]
  },
  {
   "cell_type": "markdown",
   "metadata": {},
   "source": [
    "## Get experiments with the specific name pattern"
   ]
  },
  {
   "cell_type": "code",
   "execution_count": null,
   "metadata": {},
   "outputs": [],
   "source": [
    "experiments = []\n",
    "name_prefix = \"migu-test-registermodel\"\n",
    "for name, exp in ws.experiments.items():\n",
    "    if name.startswith(name_prefix):\n",
    "        experiments.append(exp)"
   ]
  },
  {
   "cell_type": "markdown",
   "metadata": {},
   "source": [
    "## Register all models of the specified experiments"
   ]
  },
  {
   "cell_type": "code",
   "execution_count": null,
   "metadata": {},
   "outputs": [],
   "source": [
    "for exp in experiments:\n",
    "    for run in exp.get_runs():\n",
    "        for step in run.get_steps():\n",
    "            if step.status == \"Completed\" and step.name == \"azureml://Train Model\":\n",
    "                model_name = f\"{exp.name}-{run.number}-{step.number}\"[:32]\n",
    "                print(model_name)\n",
    "                step.register_model(\n",
    "                    model_name=model_name,\n",
    "                    model_path='./Trained_model'\n",
    "                )"
   ]
  }
 ],
 "metadata": {
  "kernelspec": {
   "display_name": "Python 3",
   "language": "python",
   "name": "python3"
  },
  "language_info": {
   "codemirror_mode": {
    "name": "ipython",
    "version": 3
   },
   "file_extension": ".py",
   "mimetype": "text/x-python",
   "name": "python",
   "nbconvert_exporter": "python",
   "pygments_lexer": "ipython3",
   "version": "3.7.4"
  }
 },
 "nbformat": 4,
 "nbformat_minor": 2
}
